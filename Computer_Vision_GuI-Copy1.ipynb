{
 "cells": [
  {
   "cell_type": "code",
   "execution_count": null,
   "metadata": {},
   "outputs": [],
   "source": [
    "import tkinter\n",
    "import cv2\n",
    "import PIL.Image, PIL.ImageTk\n",
    "from tkinter import *\n",
    "def live_webcam():\n",
    "    cap = cv2.VideoCapture(0)\n",
    "    while True:\n",
    "        _, frame = cap.read()\n",
    "        cv2.imshow('live_cam', frame)\n",
    "        if cv2.waitKey(1) & 0XFF == ord('q'):\n",
    "            break\n",
    "    cap.release()\n",
    "    cv2.destroyAllWindows()\n",
    "window = tkinter.Toplevel()\n",
    "window.geometry('720x720')\n",
    "cv_img = cv2.resize(cv2.cvtColor(cv2.imread(\"GTR.jpg\"), cv2.COLOR_BGR2RGB), (729,570))\n",
    "# Get the image dimensions (OpenCV stores image data as NumPy ndarray)\n",
    "height, width, no_channels = cv_img.shape\n",
    "canvas = tkinter.Canvas(window, width = width, height = height)\n",
    "canvas.pack()\n",
    "photo = PIL.ImageTk.PhotoImage(image = PIL.Image.fromarray(cv_img))\n",
    "canvas.create_image(0, 0, image=photo, anchor=tkinter.NW)\n",
    "\n",
    "bt1=tkinter.Button(window, padx=5,pady=5,width=39,bg='white',fg='black',relief=GROOVE,command=live_webcam,text='Open Cam',font=('helvetica 15 bold'))\n",
    "bt1.place(x=5, y=104)\n",
    "\n",
    "window.mainloop()"
   ]
  },
  {
   "cell_type": "code",
   "execution_count": null,
   "metadata": {},
   "outputs": [],
   "source": [
    "import tkinter as tk\n",
    "import cv2\n",
    "import PIL.Image, PIL.ImageTk\n",
    "from tkinter import *\n",
    "\n",
    "class CV_APP:\n",
    "    \n",
    "    def __init__(self, win = tk.Toplevel(), win_title='OPEN CV GUI', img_path=\"GTR.jpg\"):\n",
    "        self.win = win\n",
    "        self.win.geometry('720x720')\n",
    "        self.win.title(win_title)\n",
    "        \n",
    "        self.img = cv2.resize(cv2.cvtColor(cv2.imread(\"GTR.jpg\"), cv2.COLOR_BGR2RGB), (720,720))\n",
    "        self.h, self.w, self.no_ch = self.img.shape\n",
    "        \n",
    "        self.canvas = tk.Canvas(self.win, width= self.w, height= self.h)\n",
    "        self.canvas.pack()\n",
    "        \n",
    "        self.photo = PIL.ImageTk.PhotoImage(image = PIL.Image.fromarray(self.img))\n",
    "        \n",
    "        self.canvas.create_image(0, 0, image=self.photo, anchor=tk.NW)\n",
    "        \n",
    "        self.bt_1 = Button(win, padx=5,pady=5,width=39,bg='white',fg='black',relief=GROOVE,command=self.live_webcam,text='Open Cam',font=('helvetica 15 bold'))\n",
    "        self.bt_1.place(x=5, y=104)\n",
    "        \n",
    "        self.cap = cv2.VideoCapture(0)\n",
    "        self.win.mainloop()\n",
    "        \n",
    "    def live_webcam(self):\n",
    "        while True:\n",
    "            _, frame = self.cap.read()\n",
    "            cv2.imshow('live_cam', frame)\n",
    "            if cv2.waitKey(1) & 0XFF == ord('q'):\n",
    "                break\n",
    "        self.cap.release()\n",
    "        cv2.destroyAllWindows()\n",
    "CV_APP()"
   ]
  },
  {
   "cell_type": "code",
   "execution_count": null,
   "metadata": {},
   "outputs": [],
   "source": []
  },
  {
   "cell_type": "code",
   "execution_count": null,
   "metadata": {},
   "outputs": [],
   "source": []
  }
 ],
 "metadata": {
  "kernelspec": {
   "display_name": "Python 3",
   "language": "python",
   "name": "python3"
  },
  "language_info": {
   "codemirror_mode": {
    "name": "ipython",
    "version": 3
   },
   "file_extension": ".py",
   "mimetype": "text/x-python",
   "name": "python",
   "nbconvert_exporter": "python",
   "pygments_lexer": "ipython3",
   "version": "3.7.4"
  }
 },
 "nbformat": 4,
 "nbformat_minor": 2
}
