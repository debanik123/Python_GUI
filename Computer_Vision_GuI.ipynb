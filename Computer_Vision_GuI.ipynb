{
 "cells": [
  {
   "cell_type": "code",
   "execution_count": 13,
   "metadata": {},
   "outputs": [
    {
     "data": {
      "text/plain": [
       "<__main__.CV_APP at 0x1bb4b66c548>"
      ]
     },
     "execution_count": 13,
     "metadata": {},
     "output_type": "execute_result"
    }
   ],
   "source": [
    "import tkinter as tk\n",
    "import cv2\n",
    "import PIL.Image, PIL.ImageTk\n",
    "from tkinter import *\n",
    "\n",
    "class CV_APP:\n",
    "    def __init__(self, win = tk.Toplevel(), win_title='OPEN CV GUI', img_path=\"GTR.jpg\"):\n",
    "        self.win = win\n",
    "        #self.win.geometry('720x720')\n",
    "        self.win.title(win_title)\n",
    "        \n",
    "        #self.img = cv2.resize(cv2.cvtColor(cv2.imread(\"GTR.jpg\"), cv2.COLOR_BGR2RGB), (720,720))\n",
    "        self.img = cv2.cvtColor(cv2.imread(\"GTR.jpg\"), cv2.COLOR_BGR2RGB)\n",
    "        self.h, self.w, self.no_ch = self.img.shape\n",
    "        \n",
    "        self.canvas = tk.Canvas(self.win, width= self.w, height= self.h)\n",
    "        self.canvas.pack()\n",
    "        \n",
    "        self.photo = PIL.ImageTk.PhotoImage(image = PIL.Image.fromarray(self.img))\n",
    "        \n",
    "        self.canvas.create_image(0, 0, image=self.photo, anchor=tk.NW)\n",
    "        \n",
    "        self.bt_1 = Button(win, padx=2,pady=2,width=20,bg='white',fg='black',relief=GROOVE,command=self.live_webcam,text='Open Cam',font=('helvetica 15 bold'))\n",
    "        self.bt_1.place(x=1, y=10)\n",
    "        \n",
    "        self.bt_2 = Button(win, padx=2,pady=2,width=20,bg='white',fg='black',relief=GROOVE,command=self.color_space,text='Color_space',font=('helvetica 15 bold'))\n",
    "        self.bt_2.place(x=260, y=10)\n",
    "        \n",
    "        self.win.mainloop()\n",
    "        \n",
    "    def live_webcam(self):\n",
    "        cap = cv2.VideoCapture(0)\n",
    "        while True:\n",
    "            _, frame = cap.read()\n",
    "            cv2.imshow('live_cam', frame)\n",
    "            if cv2.waitKey(1) & 0XFF == ord('q'):\n",
    "                break\n",
    "        cap.release()\n",
    "        cv2.destroyAllWindows()\n",
    "        \n",
    "    def color_space(self):\n",
    "        cap = cv2.VideoCapture(0)\n",
    "        while True:\n",
    "            _, frame = cap.read()\n",
    "            hsv = cv2.cvtColor(frame, cv2.COLOR_BGR2HSV)\n",
    "            gray = cv2.cvtColor(frame, cv2.COLOR_BGR2GRAY)\n",
    "            rgb = cv2.cvtColor(frame, cv2.COLOR_BGR2RGB)\n",
    "            cv2.imshow('hsv', hsv)\n",
    "            cv2.imshow('gray', gray)\n",
    "            cv2.imshow('rgb', rgb)\n",
    "            if cv2.waitKey(1) & 0XFF == ord('q'):\n",
    "                break\n",
    "        cap.release()\n",
    "        cv2.destroyAllWindows()\n",
    "    \n",
    "    \n",
    "    \n",
    "CV_APP()"
   ]
  },
  {
   "cell_type": "code",
   "execution_count": null,
   "metadata": {},
   "outputs": [],
   "source": []
  },
  {
   "cell_type": "code",
   "execution_count": null,
   "metadata": {},
   "outputs": [],
   "source": []
  }
 ],
 "metadata": {
  "kernelspec": {
   "display_name": "Python 3",
   "language": "python",
   "name": "python3"
  },
  "language_info": {
   "codemirror_mode": {
    "name": "ipython",
    "version": 3
   },
   "file_extension": ".py",
   "mimetype": "text/x-python",
   "name": "python",
   "nbconvert_exporter": "python",
   "pygments_lexer": "ipython3",
   "version": "3.7.4"
  }
 },
 "nbformat": 4,
 "nbformat_minor": 2
}
