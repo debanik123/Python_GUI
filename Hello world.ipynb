{
 "cells": [
  {
   "cell_type": "code",
   "execution_count": 1,
   "metadata": {},
   "outputs": [],
   "source": [
    "import tkinter"
   ]
  },
  {
   "cell_type": "code",
   "execution_count": 2,
   "metadata": {},
   "outputs": [],
   "source": [
    "from tkinter import *"
   ]
  },
  {
   "cell_type": "code",
   "execution_count": 3,
   "metadata": {},
   "outputs": [],
   "source": [
    "import tkinter as tk"
   ]
  },
  {
   "cell_type": "code",
   "execution_count": 17,
   "metadata": {},
   "outputs": [
    {
     "name": "stdout",
     "output_type": "stream",
     "text": [
      "Welcome to new world!\n"
     ]
    }
   ],
   "source": [
    "class APP(tk.Frame):\n",
    "    def __init__(self,master=None):\n",
    "        super().__init__(master)\n",
    "        self.master = master\n",
    "        self.pack()\n",
    "        self.w()\n",
    "    \n",
    "    def w(self):\n",
    "        self.new = tk.Button(self)\n",
    "        self.new['text'] = 'Hello World \\n(click me)'\n",
    "        self.new['command'] = self.hi\n",
    "        self.new.pack(side='top')\n",
    "        \n",
    "        self.q = tk.Button(self, text='QUIT', fg='red', command=self.master.destroy)\n",
    "        self.q.pack(side='bottom')\n",
    "        \n",
    "    def hi(self):\n",
    "        print('Welcome to new world!')\n",
    "\n",
    "root = tk.Tk()\n",
    "app = APP(master=root)\n",
    "app.mainloop()"
   ]
  },
  {
   "cell_type": "code",
   "execution_count": 18,
   "metadata": {},
   "outputs": [],
   "source": [
    "import tkinter as tk\n",
    "from tkinter import ttk"
   ]
  },
  {
   "cell_type": "code",
   "execution_count": 21,
   "metadata": {},
   "outputs": [],
   "source": [
    "win = tk.Tk()\n",
    "win.title('Pytho new GUI')\n",
    "\n",
    "ttk.Label(win, text=\"My first GUI\").grid(column=0, row=0)\n",
    "win.mainloop()"
   ]
  },
  {
   "cell_type": "code",
   "execution_count": 34,
   "metadata": {},
   "outputs": [],
   "source": [
    "win = tk.Tk()\n",
    "win.title('Pytho new GUI')\n",
    "\n",
    "label = ttk.Label(win, text=\"My second programme\")\n",
    "label.grid(column=0, row=0)\n",
    "def clickMe():\n",
    "    action.configure(text=\"** I have been Clicked **\")\n",
    "    label.configure(foreground='red')\n",
    "    label.configure(text=\"A Red Label\")\n",
    "    \n",
    "action = ttk.Button(win, text=\"Click Me\", command=clickMe)\n",
    "action.grid(column=1, row=0)\n",
    "win.mainloop()"
   ]
  },
  {
   "cell_type": "code",
   "execution_count": null,
   "metadata": {},
   "outputs": [],
   "source": [
    "win = tk.Tk()\n",
    "win.title('Pytho new GUI')\n",
    "label = ttk.Label(win, text=\"My Third programme\")\n",
    "label.grid(column=0, row=0)\n",
    "\n",
    "def clickMe():\n",
    "    action.configure(text=\"Hello\" + name.get())\n",
    "    \n",
    "ttk.Label(win, text='Enter a name:').grid(column=0, row=0)\n",
    "\n",
    "name = tk.StringVar()\n",
    "name_E = ttk.Entry(win, widget=100, textvariable=name)\n",
    "name_E.grid(column=0, row=1)\n",
    "\n",
    "action = ttk.Button(win, text=\"Click Me!\", command=clickMe)\n",
    "action.grid(column=1, row=0)\n",
    "win.mainloop()\n"
   ]
  }
 ],
 "metadata": {
  "kernelspec": {
   "display_name": "Python 3",
   "language": "python",
   "name": "python3"
  },
  "language_info": {
   "codemirror_mode": {
    "name": "ipython",
    "version": 3
   },
   "file_extension": ".py",
   "mimetype": "text/x-python",
   "name": "python",
   "nbconvert_exporter": "python",
   "pygments_lexer": "ipython3",
   "version": "3.7.4"
  }
 },
 "nbformat": 4,
 "nbformat_minor": 2
}
